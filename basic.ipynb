{
  "nbformat": 4,
  "nbformat_minor": 0,
  "metadata": {
    "colab": {
      "name": "basic.ipynb",
      "private_outputs": true,
      "provenance": [],
      "collapsed_sections": [],
      "authorship_tag": "ABX9TyMIWhbCqVt5Z0eSSERp+RGW",
      "include_colab_link": true
    },
    "kernelspec": {
      "name": "python3",
      "display_name": "Python 3"
    },
    "language_info": {
      "name": "python"
    }
  },
  "cells": [
    {
      "cell_type": "markdown",
      "metadata": {
        "id": "view-in-github",
        "colab_type": "text"
      },
      "source": [
        "<a href=\"https://colab.research.google.com/github/kazu-gor/nlp/blob/main/basic.ipynb\" target=\"_parent\"><img src=\"https://colab.research.google.com/assets/colab-badge.svg\" alt=\"Open In Colab\"/></a>"
      ]
    },
    {
      "cell_type": "markdown",
      "metadata": {
        "id": "P1KyW9KbwX2M"
      },
      "source": [
        "# Module"
      ]
    },
    {
      "cell_type": "code",
      "metadata": {
        "id": "X1deV9L6wXob"
      },
      "source": [
        "import numpy as np"
      ],
      "execution_count": null,
      "outputs": []
    },
    {
      "cell_type": "markdown",
      "metadata": {
        "id": "kMN-j0X7sl0l"
      },
      "source": [
        "# 相互情報量 (Pointwise Mutual Information)\n",
        "出現回数を考慮することで，単語の関係性を適切に抽出することができる．\n",
        "<br><br>\n",
        "${PMI(x, y) = \\log _2\\frac{P(x, y)}{P(x)P(y)}}$\n",
        "<br><br>\n",
        "共起行列を${C}$，出現回数を${N}$とすると以下のような式になる．　\n",
        "\n",
        "${PMI(x, y) = \\log _2\\frac{C(x, y)\\cdot N}{C(x)C(y)}}$\n",
        "<br><br>\n",
        "この状態での問題点は，共起する列が0の場合， ${\\log_2 0=-\\infty}$となってしまうため，<b>正の相互情報量<b>(Positive PMI)が使われる．\n",
        "<br><br>\n",
        "${PPMI(x, y) = \\max(0, PMI(x, y))}$\n",
        "\n"
      ]
    },
    {
      "cell_type": "code",
      "metadata": {
        "id": "d6Su96EHsVry"
      },
      "source": [
        "def ppmi(C: np.array, verbose=False, eps=1e-8):\n",
        "    M = np.zeros_like(C, dtype=np.float32)\n",
        "    N = np.sum(C)\n",
        "    S = np.sum(C, axis=0)\n",
        "    total = C.shape[0] * C.shape[1]\n",
        "    cnt = 0\n",
        "\n",
        "    for i in range(C.shape[0]):\n",
        "        for j in range(C.shape[1]):\n",
        "            pmi = np.log2(C[i, j] * N / (C[i] * C[j]) * eps)\n",
        "            M[i, j] = max(0, pmi)\n",
        "\n",
        "            if verbose:\n",
        "                cnt += 1\n",
        "                if cnt % (total//100) == 0:\n",
        "                    print('%.1f%% done' % (100*cnt / total))\n",
        "    return M"
      ],
      "execution_count": null,
      "outputs": []
    },
    {
      "cell_type": "code",
      "metadata": {
        "id": "RngiXHNtwWQm"
      },
      "source": [
        ""
      ],
      "execution_count": null,
      "outputs": []
    }
  ]
}