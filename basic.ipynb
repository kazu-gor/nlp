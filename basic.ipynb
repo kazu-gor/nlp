{
  "nbformat": 4,
  "nbformat_minor": 0,
  "metadata": {
    "colab": {
      "name": "basic.ipynb",
      "private_outputs": true,
      "provenance": [],
      "collapsed_sections": [],
      "authorship_tag": "ABX9TyPUpgZAQzhzPT1yL3pBDiR2",
      "include_colab_link": true
    },
    "kernelspec": {
      "name": "python3",
      "display_name": "Python 3"
    },
    "language_info": {
      "name": "python"
    }
  },
  "cells": [
    {
      "cell_type": "markdown",
      "metadata": {
        "id": "view-in-github",
        "colab_type": "text"
      },
      "source": [
        "<a href=\"https://colab.research.google.com/github/kazu-gor/nlp/blob/main/basic.ipynb\" target=\"_parent\"><img src=\"https://colab.research.google.com/assets/colab-badge.svg\" alt=\"Open In Colab\"/></a>"
      ]
    },
    {
      "cell_type": "markdown",
      "metadata": {
        "id": "P1KyW9KbwX2M"
      },
      "source": [
        "# Module"
      ]
    },
    {
      "cell_type": "code",
      "metadata": {
        "id": "aBysWtZEYi5B"
      },
      "source": [
        "!apt-get -q -y install swig \n",
        "!apt-get install mecab\n",
        "!apt-get install libmecab-dev\n",
        "!apt-get install mecab-ipadic-utf8\n",
        "!pip install mecab-python3==0.996.5\n",
        "!pip install unidic-lite"
      ],
      "execution_count": null,
      "outputs": []
    },
    {
      "cell_type": "code",
      "metadata": {
        "id": "X1deV9L6wXob"
      },
      "source": [
        "import MeCab\n",
        "import numpy as np\n",
        "import time\n",
        "\n",
        "import torch \n",
        "import torch.nn as nn\n",
        "import torch.nn.functional as F\n",
        "import torch.optim as optim"
      ],
      "execution_count": null,
      "outputs": []
    },
    {
      "cell_type": "markdown",
      "metadata": {
        "id": "CmeHPTiNY8y0"
      },
      "source": [
        "# 相互情報量 (Pointwise Mutual Information)"
      ]
    },
    {
      "cell_type": "markdown",
      "metadata": {
        "id": "kMN-j0X7sl0l"
      },
      "source": [
        "出現回数を考慮することで，単語の関係性を適切に抽出することができる．\n",
        "<br><br>\n",
        "${PMI(x, y) = \\log _2\\frac{P(x, y)}{P(x)P(y)}}$\n",
        "<br><br>\n",
        "共起行列を${C}$，出現回数を${N}$とすると以下のような式になる．　\n",
        "\n",
        "${PMI(x, y) = \\log _2\\frac{C(x, y)\\cdot N}{C(x)C(y)}}$\n",
        "<br><br>\n",
        "この状態での問題点は，共起する列が0の場合， ${\\log_2 0=-\\infty}$となってしまうため，<b>正の相互情報量<b>(Positive PMI)が使われる．\n",
        "<br><br>\n",
        "${PPMI(x, y) = \\max(0, PMI(x, y))}$\n",
        "\n"
      ]
    },
    {
      "cell_type": "code",
      "metadata": {
        "id": "d6Su96EHsVry"
      },
      "source": [
        "def ppmi(C: np.array, verbose=False, eps=1e-8):\n",
        "    M = np.zeros_like(C, dtype=np.float32)\n",
        "    N = np.sum(C)\n",
        "    S = np.sum(C, axis=0)\n",
        "    total = C.shape[0] * C.shape[1]\n",
        "    cnt = 0\n",
        "\n",
        "    for i in range(C.shape[0]):\n",
        "        for j in range(C.shape[1]):\n",
        "            pmi = np.log2(C[i, j] * N / (S[i] * S[j]) + eps)\n",
        "            M[i, j] = max(0, pmi)\n",
        "\n",
        "            if verbose:\n",
        "                cnt += 1\n",
        "                if cnt % (total//100) == 0:\n",
        "                    print('%.1f%% done' % (100*cnt / total))\n",
        "    return M"
      ],
      "execution_count": null,
      "outputs": []
    },
    {
      "cell_type": "code",
      "metadata": {
        "id": "RngiXHNtwWQm"
      },
      "source": [
        "# test code\n",
        "C = np.zeros((5, 5))\n",
        "C[0][0], C[0][3], C[0][4], C[2][0], C[2][2], C[2][4], C[3][3], C[4, 4] = 1, 1, 1, 1, 1, 1, 1, 1\n",
        "print(f\"covariance matrix \\n{C}\")\n",
        "print(f\"PPMI\\n{ppmi(C)}\")"
      ],
      "execution_count": null,
      "outputs": []
    },
    {
      "cell_type": "markdown",
      "metadata": {
        "id": "m4XUGupnZC-9"
      },
      "source": [
        "# 次元削除"
      ]
    },
    {
      "cell_type": "markdown",
      "metadata": {
        "id": "Igf78VXEQudv"
      },
      "source": [
        "共分散行列および，相互情報量はまだ疎な行列であるため，情報量が増えた場合，計算量が比例して増えてしまう．\n",
        "<br><br>\n",
        "これを回避するために，次元削除を行い，重要な情報だけ抽出して引き出せばよい．\n",
        "<br><br>\n",
        "その一種として<b>特異値分解(Singular Value Decomposition: SVD)</b>を使う．\n",
        "\n",
        "${X = USV^T}$\n",
        "\n",
        "任意の行列 ${X}$ を, ${U, S, V}$の3つの行列に分解する．だたし，${U, V}$は直行行列であり， ${S}$は対角行列である．　\n",
        "\n",
        "${U}$ は「単語空間」であり，　${S}$の対角成分は「特異値(重要度)」というものが大きい順にならんでいる．"
      ]
    },
    {
      "cell_type": "code",
      "metadata": {
        "id": "a6Ujm74tNRJJ"
      },
      "source": [
        "W = ppmi(C)\n",
        "\n",
        "#SVD\n",
        "U, S, V = np.linalg.svd(W)"
      ],
      "execution_count": null,
      "outputs": []
    },
    {
      "cell_type": "code",
      "metadata": {
        "id": "Et6D-pWMO77G"
      },
      "source": [
        "# covariance matrix\n",
        "print(C[0])\n",
        "\n",
        "# PPMI matrix\n",
        "print(W[0])\n",
        "\n",
        "#SVD\n",
        "print(U[0])"
      ],
      "execution_count": null,
      "outputs": []
    }
  ]
}